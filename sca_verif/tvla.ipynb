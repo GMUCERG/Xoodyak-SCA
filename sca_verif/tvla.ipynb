{
 "cells": [
  {
   "cell_type": "markdown",
   "metadata": {},
   "source": [
    "# <div align=\"center\">TVLA<div>\n",
    "\n"
   ]
  },
  {
   "cell_type": "code",
   "execution_count": 1,
   "metadata": {},
   "outputs": [],
   "source": [
    "# import libraries\n",
    "import os\n",
    "import sys\n",
    "import shutil\n",
    "import json\n",
    "import foboslib.pynqctrl\n",
    "from foboslib.fobosctrl import FOBOSCtrl\n",
    "import foboslib.projmgr\n",
    "import numpy as np\n",
    "from foboslib.tvlaCalc import TVLACalc\n",
    "#######################################################\n",
    "# acquisition configuration\n",
    "# connection to ctrl board\n",
    "acqConf = {}\n",
    "acqConf['ip'] = '192.168.10.99'\n",
    "acqConf['port'] = 9995\n",
    "# File names and locations\n",
    "acqConf['workspace'] = \".\" # Folder to store projects\n",
    "acqConf['projectName'] = \"xoodyak-dom\"      # Name of this project. Files will be in WORKSPACE/PROJECT_NAME/\n",
    "acqConf['dinFile'] = \"dinFile.txt\"      # test vectors in FOBOS format incl. plaintext and key\n",
    "acqConf['cipherFile'] = \"doutFile.txt\"     # observed ciphertext, result from applying test vectors\n",
    "acqConf['fvrFile'] = \"fvrchoicefile.txt\"\n",
    "acqConf['traceFile']  = \"powerTraces.npy\"     # Name of file for recording power traces"
   ]
  },
  {
   "cell_type": "code",
   "execution_count": 2,
   "metadata": {},
   "outputs": [],
   "source": [
    "#Acquistion configuration\n",
    "acqConf['traceNum'] = 10000000           # number of traces to run [default: 10]\n",
    "acqConf['DUTClk'] = 10 * 1.6         # clock frequency of the DUT in MHz, [range: 1 - 100]\n",
    "acqConf['samplingFreq'] =  50 * 1.6  # sampling frequency of the Oscilloscope in Msps [default: 50][range: 1 - 100]\n",
    "# tinyjambu-dom needs 615 cc for the current tv\n",
    "acqConf['samplesPerTrace'] = 5 * 80 # number of sample in one trace [range: 1 - 2^17]\n",
    "acqConf['ADCGain'] = 30              # amplification of ADC input signal [default: 40][range: 0 - 60]\n",
    "acqConf['outLen'] = 88               # output length for current test vector\n"
   ]
  },
  {
   "cell_type": "code",
   "execution_count": 3,
   "metadata": {},
   "outputs": [],
   "source": [
    "# Configure project directories\n",
    "pm = foboslib.projmgr.ProjectManager()\n",
    "pm.setWorkSpaceDir(acqConf['workspace'])\n",
    "pm.setProjName(acqConf['projectName'])\n",
    "projDir = pm.getProjDir()"
   ]
  },
  {
   "cell_type": "code",
   "execution_count": 4,
   "metadata": {
    "scrolled": false
   },
   "outputs": [
    {
     "name": "stdout",
     "output_type": "stream",
     "text": [
      "Acquired hardware lock\n",
      "Successfully created new capture directory at ./xoodyak-dom/capture/attempt-02\n",
      "# Acquisition parameters:\n",
      "DUT_CLK = 16.0\n",
      "OUT_LEN = 88\n",
      "SAMPLING_FREQ = 80\n",
      "ADC_GAIN = 30\n",
      "SAMPLES_PER_TRACE = 400\n",
      "\n",
      "Processing test vectors ...\n",
      "Progress:0.00%\r"
     ]
    },
    {
     "name": "stderr",
     "output_type": "stream",
     "text": [
      "/home/bakry/projects/GMU/Xoodyak-384-DOM/sca_verif/foboslib/tvlaCalc.py:67: RuntimeWarning: invalid value encountered in true_divide\n",
      "  return self.CS2_0 / self.n_0\n"
     ]
    },
    {
     "name": "stdout",
     "output_type": "stream",
     "text": [
      "Data acquisition complete.\n",
      "Released hardware lock.\n"
     ]
    }
   ],
   "source": [
    "# connect to hardware and lock it ######################################\n",
    "ctrl = foboslib.pynqctrl.PYNQCtrl(acqConf['ip'], acqConf['port'])\n",
    "# Apply config to ctrl board ###########################################\n",
    "try:\n",
    "    ctrl.setDUTClk(acqConf['DUTClk'])\n",
    "    ctrl.setDUTInterface(FOBOSCtrl.INTERFACE_4BIT)\n",
    "    ## configure DUT PRNG\n",
    "    #ctrl.setOutLen(4)\n",
    "#     seed = 0xaa11223344556677\n",
    "#     num_rand_words = 1000\n",
    "#     ctrl.confPrng(seed, num_rand_words)\n",
    "    ##\n",
    "    ctrl.setOutLen(acqConf['outLen'])\n",
    "    ctrl.setTriggerMode(FOBOSCtrl.TRG_FULL)\n",
    "    # configure trace sampling #############################################\n",
    "    ctrl.setSamplingFrequency(acqConf['samplingFreq'])\n",
    "    ctrl.setADCGain(acqConf['ADCGain'])\n",
    "    ctrl.setSamplesPerTrace(acqConf['samplesPerTrace'])\n",
    "\n",
    "except Exception as e:\n",
    "    print(e)\n",
    "    ctrl.disconnect()\n",
    "else:\n",
    "    # program DUT ##########################################################\n",
    "    #dut = foboslib.nexys3dut.Nexys3DUT()\n",
    "    #bitFile = os.path.join(projDir, acqConf['bitFile'])\n",
    "    #dut.setBitFile(bitFile)\n",
    "    #dut.program()\n",
    "    # prepare i/o files ####################################################\n",
    "    tvFileName = os.path.join(projDir, acqConf['dinFile'])\n",
    "    #plainFileName = os.path.join(projDir, acqConf['plainFile'])\n",
    "    tvFile = open(tvFileName, \"r\")\n",
    "    captureDir = pm.getCaptureDir()\n",
    "    cipherFileName = os.path.join(captureDir, acqConf['cipherFile'])\n",
    "    cipherFile = open(cipherFileName, \"w\")\n",
    "    traceFileName = os.path.join(captureDir, acqConf['traceFile'])\n",
    "    traceFile = open(traceFileName, \"a+b\")\n",
    "    shutil.copy(tvFileName, captureDir)\n",
    "    fvrFileName = os.path.join(projDir, acqConf['fvrFile'])\n",
    "    fvrFile = open(fvrFileName, 'r')\n",
    "    shutil.copy(fvrFileName, captureDir)\n",
    "    # save config to a file\n",
    "    configFile = open(os.path.join(captureDir, 'acquisitionConfig.json'), \"w\")\n",
    "    configFile.write(json.dumps(acqConf, indent=4))\n",
    "    configFile.write(ctrl.config)\n",
    "    print(ctrl.config)\n",
    "    configFile.close()\n",
    "    #t-test object\n",
    "    tCalc = TVLACalc(acqConf['samplesPerTrace'])\n",
    "    # Get traces############################################################\n",
    "    print('Processing test vectors ...')\n",
    "    traceNum = 0\n",
    "    while traceNum < acqConf['traceNum']:\n",
    "        data = tvFile.readline()\n",
    "        status, result, trace = ctrl.processData2(data, acqConf['outLen'])\n",
    "        cipherFile.write(result + \"\\n\")\n",
    "        np.save(traceFile, trace)\n",
    "        c = fvrFile.read(1)\n",
    "        tCalc.addTrace(trace, int(c))\n",
    "        if traceNum % 10000 == 0:\n",
    "            t_array, passed = tCalc.saveData1(captureDir, str(traceNum))\n",
    "            sys.stdout.write('Progress:' + \"{:.2f}\".format(traceNum/acqConf['traceNum']*100) + '%\\r')\n",
    "            sys.stdout.flush()\n",
    "        traceNum += 1\n",
    "\n",
    "    tCalc.saveData1(captureDir, str(traceNum)) \n",
    "    print('Data acquisition complete.')\n",
    "    ctrl.disconnect() # release and reset control board.\n",
    "    traceFile.close()\n",
    "    cipherFile.close()\n",
    "    tvFile.close()\n",
    "    fvrFile.close()"
   ]
  },
  {
   "cell_type": "code",
   "execution_count": null,
   "metadata": {},
   "outputs": [],
   "source": [
    "import matplotlib.pyplot as plt\n",
    "%matplotlib inline\n",
    "plt.plot(trace)\n",
    "plt.show()"
   ]
  },
  {
   "cell_type": "code",
   "execution_count": null,
   "metadata": {},
   "outputs": [],
   "source": []
  },
  {
   "cell_type": "code",
   "execution_count": null,
   "metadata": {},
   "outputs": [],
   "source": []
  }
 ],
 "metadata": {
  "kernelspec": {
   "display_name": "Python 3 (ipykernel)",
   "language": "python",
   "name": "python3"
  },
  "language_info": {
   "codemirror_mode": {
    "name": "ipython",
    "version": 3
   },
   "file_extension": ".py",
   "mimetype": "text/x-python",
   "name": "python",
   "nbconvert_exporter": "python",
   "pygments_lexer": "ipython3",
   "version": "3.8.10"
  }
 },
 "nbformat": 4,
 "nbformat_minor": 4
}
